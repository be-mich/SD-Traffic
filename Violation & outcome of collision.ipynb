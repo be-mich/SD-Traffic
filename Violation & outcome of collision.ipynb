{
 "cells": [
  {
   "cell_type": "markdown",
   "id": "0b933b10",
   "metadata": {},
   "source": [
    "This noetbook conducts an analysis of the violation that caused the collision, as well as the outcome of collision including injuries/death."
   ]
  },
  {
   "cell_type": "code",
   "execution_count": null,
   "id": "4b01a5b7",
   "metadata": {},
   "outputs": [],
   "source": []
  }
 ],
 "metadata": {
  "kernelspec": {
   "display_name": "Python 3",
   "language": "python",
   "name": "python3"
  },
  "language_info": {
   "codemirror_mode": {
    "name": "ipython",
    "version": 3
   },
   "file_extension": ".py",
   "mimetype": "text/x-python",
   "name": "python",
   "nbconvert_exporter": "python",
   "pygments_lexer": "ipython3",
   "version": "3.8.8"
  }
 },
 "nbformat": 4,
 "nbformat_minor": 5
}
