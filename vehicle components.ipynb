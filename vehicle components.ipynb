{
 "cells": [
  {
   "cell_type": "markdown",
   "id": "391de8e4",
   "metadata": {},
   "source": [
    "This notebook analyzes vehicle details such as make/model/ type of vehicle "
   ]
  },
  {
   "cell_type": "code",
   "execution_count": null,
   "id": "e54e4485",
   "metadata": {},
   "outputs": [],
   "source": []
  }
 ],
 "metadata": {
  "kernelspec": {
   "display_name": "Python 3",
   "language": "python",
   "name": "python3"
  },
  "language_info": {
   "codemirror_mode": {
    "name": "ipython",
    "version": 3
   },
   "file_extension": ".py",
   "mimetype": "text/x-python",
   "name": "python",
   "nbconvert_exporter": "python",
   "pygments_lexer": "ipython3",
   "version": "3.8.8"
  }
 },
 "nbformat": 4,
 "nbformat_minor": 5
}
